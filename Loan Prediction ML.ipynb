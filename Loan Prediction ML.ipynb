{
 "cells": [
  {
   "cell_type": "markdown",
   "id": "61021703",
   "metadata": {},
   "source": [
    "# LOAN STATUS PREDICTION"
   ]
  },
  {
   "cell_type": "markdown",
   "id": "202aff2d",
   "metadata": {},
   "source": [
    "**Project Contents (Planned):**\n",
    "\n",
    "* Project Hypothesis\n",
    "* Data Collection (DataSet)\n",
    "* Exploratory Data Analysis (EDA)\n",
    "* Data Cleaning (Data Pre-processing)\n",
    "* Model Development\n",
    "* Evaluation\n",
    "* Conclusions"
   ]
  },
  {
   "cell_type": "markdown",
   "id": "951da08f",
   "metadata": {},
   "source": [
    "## Project Hypothesis"
   ]
  },
  {
   "cell_type": "markdown",
   "id": "2f3b13b1",
   "metadata": {},
   "source": [
    "Possible Contributors in the project could be:\n",
    "\n",
    "1. Education: Higher the level of education, higher the chances of getting loan approved.\n",
    "2. Income: Income and Loan approval should be **directly propotional** factors.\n",
    "3. Loan Amount: Loan amount and chances of loan approval should be **inversely propotional** factors.\n",
    "4. Loan Term: Loan term and chances of loan approval should be **inversely propotional** factors.\n",
    "5. Credit history: Applicants who have repayed their previous debts should have higher chances of loan approval\n"
   ]
  },
  {
   "cell_type": "markdown",
   "id": "57b3bd35",
   "metadata": {},
   "source": [
    "## DataSet \n",
    "*Source: https://www.kaggle.com/altruistdelhite04/loan-prediction-problem-dataset (Kaggle)*"
   ]
  },
  {
   "cell_type": "markdown",
   "id": "111f8270",
   "metadata": {},
   "source": [
    "The test set contains all the independent variables, but not the target variable. We will apply the model to predict the target variable for the test data. There are:\n",
    "* 15 columns of features and 614 rows of records in the training set\n",
    "* 14 columns of features and 367 rows of records in the test set."
   ]
  },
  {
   "cell_type": "markdown",
   "id": "1b774d33",
   "metadata": {},
   "source": [
    "## EDA (Exploratory Data Analysis)"
   ]
  },
  {
   "cell_type": "code",
   "execution_count": 27,
   "id": "3fa288cc",
   "metadata": {},
   "outputs": [],
   "source": [
    "import pandas as pd\n",
    "import numpy as np\n",
    "import matplotlib.pyplot as plt\n",
    "import seaborn as sbn\n",
    "import plotly.express as px\n",
    "%matplotlib inline\n",
    "import warnings\n",
    "warnings.filterwarnings(\"ignore\")"
   ]
  },
  {
   "cell_type": "code",
   "execution_count": 3,
   "id": "762660c8",
   "metadata": {
    "scrolled": true
   },
   "outputs": [],
   "source": [
    "train_data=pd.read_csv('Minor_Project_train.csv',index_col='S.No.')\n",
    "test_data=pd.read_csv('Minor_Project_test.csv',index_col='S.No.')"
   ]
  },
  {
   "cell_type": "code",
   "execution_count": 4,
   "id": "d9a094a1",
   "metadata": {},
   "outputs": [],
   "source": [
    "#Using Data Copy to prevent changes to original Data\n",
    "train = train_data.copy()\n",
    "test = test_data.copy()"
   ]
  },
  {
   "cell_type": "code",
   "execution_count": 73,
   "id": "c80997b6",
   "metadata": {
    "scrolled": true
   },
   "outputs": [
    {
     "data": {
      "text/html": [
       "<div>\n",
       "<style scoped>\n",
       "    .dataframe tbody tr th:only-of-type {\n",
       "        vertical-align: middle;\n",
       "    }\n",
       "\n",
       "    .dataframe tbody tr th {\n",
       "        vertical-align: top;\n",
       "    }\n",
       "\n",
       "    .dataframe thead th {\n",
       "        text-align: right;\n",
       "    }\n",
       "</style>\n",
       "<table border=\"1\" class=\"dataframe\">\n",
       "  <thead>\n",
       "    <tr style=\"text-align: right;\">\n",
       "      <th></th>\n",
       "      <th>Loan_ID</th>\n",
       "      <th>Gender</th>\n",
       "      <th>Married</th>\n",
       "      <th>Dependents</th>\n",
       "      <th>Education</th>\n",
       "      <th>Self_Employed</th>\n",
       "      <th>ApplicantIncome</th>\n",
       "      <th>CoapplicantIncome</th>\n",
       "      <th>LoanAmount</th>\n",
       "      <th>Purpose</th>\n",
       "      <th>Loan_Amount_Term</th>\n",
       "      <th>Credit_History</th>\n",
       "      <th>Property_Area</th>\n",
       "      <th>Loan_Status</th>\n",
       "    </tr>\n",
       "    <tr>\n",
       "      <th>S.No.</th>\n",
       "      <th></th>\n",
       "      <th></th>\n",
       "      <th></th>\n",
       "      <th></th>\n",
       "      <th></th>\n",
       "      <th></th>\n",
       "      <th></th>\n",
       "      <th></th>\n",
       "      <th></th>\n",
       "      <th></th>\n",
       "      <th></th>\n",
       "      <th></th>\n",
       "      <th></th>\n",
       "      <th></th>\n",
       "    </tr>\n",
       "  </thead>\n",
       "  <tbody>\n",
       "    <tr>\n",
       "      <th>0</th>\n",
       "      <td>LP001002</td>\n",
       "      <td>Male</td>\n",
       "      <td>No</td>\n",
       "      <td>0</td>\n",
       "      <td>Graduate</td>\n",
       "      <td>No</td>\n",
       "      <td>5849</td>\n",
       "      <td>0.0</td>\n",
       "      <td>NaN</td>\n",
       "      <td>debt_consolidation</td>\n",
       "      <td>360.0</td>\n",
       "      <td>1.0</td>\n",
       "      <td>Urban</td>\n",
       "      <td>Y</td>\n",
       "    </tr>\n",
       "    <tr>\n",
       "      <th>1</th>\n",
       "      <td>LP001003</td>\n",
       "      <td>Male</td>\n",
       "      <td>Yes</td>\n",
       "      <td>1</td>\n",
       "      <td>Graduate</td>\n",
       "      <td>No</td>\n",
       "      <td>4583</td>\n",
       "      <td>1508.0</td>\n",
       "      <td>128.0</td>\n",
       "      <td>credit_card</td>\n",
       "      <td>360.0</td>\n",
       "      <td>1.0</td>\n",
       "      <td>Rural</td>\n",
       "      <td>N</td>\n",
       "    </tr>\n",
       "    <tr>\n",
       "      <th>2</th>\n",
       "      <td>LP001005</td>\n",
       "      <td>Male</td>\n",
       "      <td>Yes</td>\n",
       "      <td>0</td>\n",
       "      <td>Graduate</td>\n",
       "      <td>Yes</td>\n",
       "      <td>3000</td>\n",
       "      <td>0.0</td>\n",
       "      <td>66.0</td>\n",
       "      <td>debt_consolidation</td>\n",
       "      <td>360.0</td>\n",
       "      <td>1.0</td>\n",
       "      <td>Urban</td>\n",
       "      <td>Y</td>\n",
       "    </tr>\n",
       "    <tr>\n",
       "      <th>3</th>\n",
       "      <td>LP001006</td>\n",
       "      <td>Male</td>\n",
       "      <td>Yes</td>\n",
       "      <td>0</td>\n",
       "      <td>Not Graduate</td>\n",
       "      <td>No</td>\n",
       "      <td>2583</td>\n",
       "      <td>2358.0</td>\n",
       "      <td>120.0</td>\n",
       "      <td>debt_consolidation</td>\n",
       "      <td>360.0</td>\n",
       "      <td>1.0</td>\n",
       "      <td>Urban</td>\n",
       "      <td>Y</td>\n",
       "    </tr>\n",
       "    <tr>\n",
       "      <th>4</th>\n",
       "      <td>LP001008</td>\n",
       "      <td>Male</td>\n",
       "      <td>No</td>\n",
       "      <td>0</td>\n",
       "      <td>Graduate</td>\n",
       "      <td>No</td>\n",
       "      <td>6000</td>\n",
       "      <td>0.0</td>\n",
       "      <td>141.0</td>\n",
       "      <td>credit_card</td>\n",
       "      <td>360.0</td>\n",
       "      <td>1.0</td>\n",
       "      <td>Urban</td>\n",
       "      <td>Y</td>\n",
       "    </tr>\n",
       "  </tbody>\n",
       "</table>\n",
       "</div>"
      ],
      "text/plain": [
       "        Loan_ID Gender Married Dependents     Education Self_Employed  \\\n",
       "S.No.                                                                   \n",
       "0      LP001002   Male      No          0      Graduate            No   \n",
       "1      LP001003   Male     Yes          1      Graduate            No   \n",
       "2      LP001005   Male     Yes          0      Graduate           Yes   \n",
       "3      LP001006   Male     Yes          0  Not Graduate            No   \n",
       "4      LP001008   Male      No          0      Graduate            No   \n",
       "\n",
       "       ApplicantIncome  CoapplicantIncome  LoanAmount             Purpose  \\\n",
       "S.No.                                                                       \n",
       "0                 5849                0.0         NaN  debt_consolidation   \n",
       "1                 4583             1508.0       128.0         credit_card   \n",
       "2                 3000                0.0        66.0  debt_consolidation   \n",
       "3                 2583             2358.0       120.0  debt_consolidation   \n",
       "4                 6000                0.0       141.0         credit_card   \n",
       "\n",
       "       Loan_Amount_Term  Credit_History Property_Area Loan_Status  \n",
       "S.No.                                                              \n",
       "0                 360.0             1.0         Urban           Y  \n",
       "1                 360.0             1.0         Rural           N  \n",
       "2                 360.0             1.0         Urban           Y  \n",
       "3                 360.0             1.0         Urban           Y  \n",
       "4                 360.0             1.0         Urban           Y  "
      ]
     },
     "execution_count": 73,
     "metadata": {},
     "output_type": "execute_result"
    }
   ],
   "source": [
    "#Training DataSet with dependant variable 'Loan_Status'\n",
    "train = train.drop('Rate_of_Interest',axis=1)\n",
    "train.head()"
   ]
  },
  {
   "cell_type": "code",
   "execution_count": 5,
   "id": "1d3eecf5",
   "metadata": {},
   "outputs": [
    {
     "data": {
      "text/plain": [
       "(614, 14)"
      ]
     },
     "execution_count": 5,
     "metadata": {},
     "output_type": "execute_result"
    }
   ],
   "source": [
    "train.shape"
   ]
  },
  {
   "cell_type": "code",
   "execution_count": 6,
   "id": "21b5eccc",
   "metadata": {},
   "outputs": [
    {
     "data": {
      "text/plain": [
       "Index(['Loan_ID', 'Gender', 'Married', 'Dependents', 'Education',\n",
       "       'Self_Employed', 'ApplicantIncome', 'CoapplicantIncome', 'LoanAmount',\n",
       "       'Purpose', 'Loan_Amount_Term', 'Credit_History', 'Property_Area',\n",
       "       'Loan_Status'],\n",
       "      dtype='object')"
      ]
     },
     "execution_count": 6,
     "metadata": {},
     "output_type": "execute_result"
    }
   ],
   "source": [
    "train.columns"
   ]
  },
  {
   "cell_type": "code",
   "execution_count": 7,
   "id": "3982edaa",
   "metadata": {},
   "outputs": [
    {
     "name": "stdout",
     "output_type": "stream",
     "text": [
      "<class 'pandas.core.frame.DataFrame'>\n",
      "Int64Index: 614 entries, 0 to 613\n",
      "Data columns (total 14 columns):\n",
      " #   Column             Non-Null Count  Dtype  \n",
      "---  ------             --------------  -----  \n",
      " 0   Loan_ID            614 non-null    object \n",
      " 1   Gender             601 non-null    object \n",
      " 2   Married            611 non-null    object \n",
      " 3   Dependents         599 non-null    object \n",
      " 4   Education          614 non-null    object \n",
      " 5   Self_Employed      582 non-null    object \n",
      " 6   ApplicantIncome    614 non-null    int64  \n",
      " 7   CoapplicantIncome  614 non-null    float64\n",
      " 8   LoanAmount         592 non-null    float64\n",
      " 9   Purpose            614 non-null    object \n",
      " 10  Loan_Amount_Term   600 non-null    float64\n",
      " 11  Credit_History     564 non-null    float64\n",
      " 12  Property_Area      614 non-null    object \n",
      " 13  Loan_Status        614 non-null    object \n",
      "dtypes: float64(4), int64(1), object(9)\n",
      "memory usage: 72.0+ KB\n"
     ]
    }
   ],
   "source": [
    "train.info()"
   ]
  },
  {
   "cell_type": "code",
   "execution_count": 8,
   "id": "782d9750",
   "metadata": {},
   "outputs": [
    {
     "data": {
      "text/plain": [
       "(Index(['Loan_ID', 'Gender', 'Married', 'Dependents', 'Education',\n",
       "        'Self_Employed', 'ApplicantIncome', 'CoapplicantIncome', 'LoanAmount',\n",
       "        'Loan_Amount_Term', 'Credit_History', 'Property_Area', 'Loan_Status'],\n",
       "       dtype='object'),\n",
       " (614, 13))"
      ]
     },
     "execution_count": 8,
     "metadata": {},
     "output_type": "execute_result"
    }
   ],
   "source": [
    "# Dropping Purpose column as it is not relevant to the Analysis\n",
    "train = train.drop([\"Purpose\"],axis=1)\n",
    "train.columns, train.shape"
   ]
  },
  {
   "cell_type": "markdown",
   "id": "4f3d58af",
   "metadata": {},
   "source": [
    "Based on above information we can split our data variables (columns) into 2 types:\n",
    "1. Categorical Values - The object type variables\n",
    "2. Numerical Values - float64 and int64 type variables\n",
    "\n",
    "We have to divide data into numerical and categorical data because statistical methods can only be used with certain data types and enable us to choose the correct analytic method."
   ]
  },
  {
   "cell_type": "code",
   "execution_count": 9,
   "id": "cbd052f4",
   "metadata": {},
   "outputs": [],
   "source": [
    "categorical_columns = ['Gender', 'Married', 'Dependents', 'Education', 'Self_Employed', \n",
    "                       'Property_Area','Credit_History']\n",
    "\n",
    "numerical_columns = ['ApplicantIncome', 'CoapplicantIncome', 'LoanAmount','Loan_Amount_Term']"
   ]
  },
  {
   "cell_type": "markdown",
   "id": "c87ff01e",
   "metadata": {},
   "source": [
    "* For categorical features we can use frequency table or bar plots to calculate the number of each category in a particular variable. \n",
    "* For numerical features, a histogram or a box-plot can be used to look at the distribution of the variable."
   ]
  },
  {
   "cell_type": "markdown",
   "id": "8d6523c1",
   "metadata": {},
   "source": [
    "## Univariate Analysis"
   ]
  },
  {
   "cell_type": "code",
   "execution_count": 10,
   "id": "2460a446",
   "metadata": {},
   "outputs": [
    {
     "name": "stdout",
     "output_type": "stream",
     "text": [
      "Y    422\n",
      "N    192\n",
      "Name: Loan_Status, dtype: int64\n"
     ]
    },
    {
     "data": {
      "text/plain": [
       "Y    68.729642\n",
       "N    31.270358\n",
       "Name: Loan_Status, dtype: float64"
      ]
     },
     "execution_count": 10,
     "metadata": {},
     "output_type": "execute_result"
    }
   ],
   "source": [
    "#Dependent Variable (Categorical)\n",
    "print(train['Loan_Status'].value_counts())\n",
    "train['Loan_Status'].value_counts(normalize=True)*100"
   ]
  },
  {
   "cell_type": "code",
   "execution_count": 11,
   "id": "10499f56",
   "metadata": {
    "scrolled": false
   },
   "outputs": [
    {
     "data": {
      "text/plain": [
       "Text(0.5, 1.0, 'Loan_Status')"
      ]
     },
     "execution_count": 11,
     "metadata": {},
     "output_type": "execute_result"
    },
    {
     "data": {
      "image/png": "[encoded data removed]",
      "text/plain": [
       "<Figure size 432x288 with 1 Axes>"
      ]
     },
     "metadata": {
      "needs_background": "light"
     },
     "output_type": "display_data"
    }
   ],
   "source": [
    "train['Loan_Status'].value_counts().plot.bar(color=['green','red'])\n",
    "plt.title('Loan_Status')"
   ]
  },
  {
   "cell_type": "markdown",
   "id": "ed98bfe6",
   "metadata": {},
   "source": [
    "_The loan of ~69% people out of 614 was approved_"
   ]
  },
  {
   "cell_type": "code",
   "execution_count": 12,
   "id": "56db060b",
   "metadata": {
    "scrolled": false
   },
   "outputs": [
    {
     "data": {
      "text/plain": [
       "<AxesSubplot:title={'center':'Education'}>"
      ]
     },
     "execution_count": 12,
     "metadata": {},
     "output_type": "execute_result"
    },
    {
     "data": {
      "image/png": "[encoded data removed]",
      "text/plain": [
       "<Figure size 1440x720 with 5 Axes>"
      ]
     },
     "metadata": {
      "needs_background": "light"
     },
     "output_type": "display_data"
    }
   ],
   "source": [
    "#Independent Variables (Categorical)\n",
    "\n",
    "plt.subplot(231)\n",
    "train['Gender'].value_counts(normalize=True).plot.bar(figsize=(20,10), title= 'Gender', color=['blue','pink'])\n",
    "plt.subplot(232)\n",
    "train['Married'].value_counts(normalize=True).plot.bar(title= 'Married', color=['green','red'])\n",
    "plt.subplot(233)\n",
    "train['Self_Employed'].value_counts(normalize=True).plot.bar(title= 'Self_Employed', color=['red','green'])\n",
    "plt.subplot(234)\n",
    "train['Credit_History'].value_counts(normalize=True).plot.bar(title= 'Credit_History', color=['green','red'])\n",
    "plt.subplot(235)\n",
    "train['Education'].value_counts(normalize=True).plot.bar(title= 'Education', color=['green','red'])"
   ]
  },
  {
   "cell_type": "markdown",
   "id": "b672bc94",
   "metadata": {},
   "source": [
    "* _80% applicants in the dataset are male._\n",
    "* _~65% of the applicants are married._\n",
    "* _Only ~15% applicants are self employed._\n",
    "* _~85% applicants have credit history._\n",
    "* _~80% of the applicants are Graduate._"
   ]
  },
  {
   "cell_type": "code",
   "execution_count": 13,
   "id": "a4d2094c",
   "metadata": {
    "scrolled": true
   },
   "outputs": [
    {
     "data": {
      "text/plain": [
       "<AxesSubplot:title={'center':'Property_Area'}>"
      ]
     },
     "execution_count": 13,
     "metadata": {},
     "output_type": "execute_result"
    },
    {
     "data": {
      "image/png": "[encoded data removed]",
      "text/plain": [
       "<Figure size 1152x288 with 2 Axes>"
      ]
     },
     "metadata": {
      "needs_background": "light"
     },
     "output_type": "display_data"
    }
   ],
   "source": [
    "plt.subplot(121)\n",
    "train['Dependents'].value_counts(normalize=True).plot.bar(figsize=(16,4), title= 'Dependents', \n",
    "                                                          color=['blue','orange', 'green', 'red'])\n",
    "plt.subplot(122)\n",
    "train['Property_Area'].value_counts(normalize=True).plot.bar(title= 'Property_Area', color=['blue','orange', 'green'])"
   ]
  },
  {
   "cell_type": "markdown",
   "id": "e97f35b0",
   "metadata": {},
   "source": [
    "* _More than half of the applicants have 0 dependents._\n",
    "* _The property Area split is quite uniform (~.05 difference between each categories)._"
   ]
  },
  {
   "cell_type": "code",
   "execution_count": 14,
   "id": "f8e16e18",
   "metadata": {
    "scrolled": true
   },
   "outputs": [
    {
     "data": {
      "text/html": [
       "<div>\n",
       "<style scoped>\n",
       "    .dataframe tbody tr th:only-of-type {\n",
       "        vertical-align: middle;\n",
       "    }\n",
       "\n",
       "    .dataframe tbody tr th {\n",
       "        vertical-align: top;\n",
       "    }\n",
       "\n",
       "    .dataframe thead th {\n",
       "        text-align: right;\n",
       "    }\n",
       "</style>\n",
       "<table border=\"1\" class=\"dataframe\">\n",
       "  <thead>\n",
       "    <tr style=\"text-align: right;\">\n",
       "      <th></th>\n",
       "      <th>ApplicantIncome</th>\n",
       "      <th>CoapplicantIncome</th>\n",
       "      <th>LoanAmount</th>\n",
       "      <th>Loan_Amount_Term</th>\n",
       "    </tr>\n",
       "  </thead>\n",
       "  <tbody>\n",
       "    <tr>\n",
       "      <th>count</th>\n",
       "      <td>614.000000</td>\n",
       "      <td>614.000000</td>\n",
       "      <td>592.000000</td>\n",
       "      <td>600.00000</td>\n",
       "    </tr>\n",
       "    <tr>\n",
       "      <th>mean</th>\n",
       "      <td>5403.459283</td>\n",
       "      <td>1621.245798</td>\n",
       "      <td>146.412162</td>\n",
       "      <td>342.00000</td>\n",
       "    </tr>\n",
       "    <tr>\n",
       "      <th>std</th>\n",
       "      <td>6109.041673</td>\n",
       "      <td>2926.248369</td>\n",
       "      <td>85.587325</td>\n",
       "      <td>65.12041</td>\n",
       "    </tr>\n",
       "    <tr>\n",
       "      <th>min</th>\n",
       "      <td>150.000000</td>\n",
       "      <td>0.000000</td>\n",
       "      <td>9.000000</td>\n",
       "      <td>12.00000</td>\n",
       "    </tr>\n",
       "    <tr>\n",
       "      <th>25%</th>\n",
       "      <td>2877.500000</td>\n",
       "      <td>0.000000</td>\n",
       "      <td>100.000000</td>\n",
       "      <td>360.00000</td>\n",
       "    </tr>\n",
       "    <tr>\n",
       "      <th>50%</th>\n",
       "      <td>3812.500000</td>\n",
       "      <td>1188.500000</td>\n",
       "      <td>128.000000</td>\n",
       "      <td>360.00000</td>\n",
       "    </tr>\n",
       "    <tr>\n",
       "      <th>75%</th>\n",
       "      <td>5795.000000</td>\n",
       "      <td>2297.250000</td>\n",
       "      <td>168.000000</td>\n",
       "      <td>360.00000</td>\n",
       "    </tr>\n",
       "    <tr>\n",
       "      <th>max</th>\n",
       "      <td>81000.000000</td>\n",
       "      <td>41667.000000</td>\n",
       "      <td>700.000000</td>\n",
       "      <td>480.00000</td>\n",
       "    </tr>\n",
       "  </tbody>\n",
       "</table>\n",
       "</div>"
      ],
      "text/plain": [
       "       ApplicantIncome  CoapplicantIncome  LoanAmount  Loan_Amount_Term\n",
       "count       614.000000         614.000000  592.000000         600.00000\n",
       "mean       5403.459283        1621.245798  146.412162         342.00000\n",
       "std        6109.041673        2926.248369   85.587325          65.12041\n",
       "min         150.000000           0.000000    9.000000          12.00000\n",
       "25%        2877.500000           0.000000  100.000000         360.00000\n",
       "50%        3812.500000        1188.500000  128.000000         360.00000\n",
       "75%        5795.000000        2297.250000  168.000000         360.00000\n",
       "max       81000.000000       41667.000000  700.000000         480.00000"
      ]
     },
     "execution_count": 14,
     "metadata": {},
     "output_type": "execute_result"
    }
   ],
   "source": [
    "# Independent Variables (Numerical)\n",
    "train[numerical_columns].describe()"
   ]
  },
  {
   "cell_type": "code",
   "execution_count": 15,
   "id": "0bd92d49",
   "metadata": {},
   "outputs": [
    {
     "data": {
      "text/plain": [
       "<AxesSubplot:title={'center':'Loan_Amount_Term'}>"
      ]
     },
     "execution_count": 15,
     "metadata": {},
     "output_type": "execute_result"
    },
    {
     "data": {
      "image/png": "[encoded data removed]",
      "text/plain": [
       "<Figure size 432x288 with 1 Axes>"
      ]
     },
     "metadata": {
      "needs_background": "light"
     },
     "output_type": "display_data"
    }
   ],
   "source": [
    "train['Loan_Amount_Term'].value_counts(normalize=True).plot.bar(title= 'Loan_Amount_Term')"
   ]
  },
  {
   "cell_type": "markdown",
   "id": "dfe802f0",
   "metadata": {},
   "source": [
    "* _More than 80% of loans are taken for 360 months (30 years)._"
   ]
  },
  {
   "cell_type": "code",
   "execution_count": 16,
   "id": "5aca4205",
   "metadata": {},
   "outputs": [
    {
     "data": {
      "text/plain": [
       "<AxesSubplot:>"
      ]
     },
     "execution_count": 16,
     "metadata": {},
     "output_type": "execute_result"
    },
    {
     "data": {
      "image/png": "[encoded data removed]",
      "text/plain": [
       "<Figure size 1080x432 with 2 Axes>"
      ]
     },
     "metadata": {
      "needs_background": "light"
     },
     "output_type": "display_data"
    }
   ],
   "source": [
    "plt.subplot(121)\n",
    "sbn.distplot(train['ApplicantIncome'])\n",
    "plt.subplot(122)\n",
    "train['ApplicantIncome'].plot.box(figsize=(15,6))"
   ]
  },
  {
   "cell_type": "markdown",
   "id": "5770c6e1",
   "metadata": {},
   "source": [
    "* _Normal Distribution NOT present_\n",
    "* _Outliers are Present_"
   ]
  },
  {
   "cell_type": "code",
   "execution_count": 17,
   "id": "995ed89d",
   "metadata": {},
   "outputs": [
    {
     "data": {
      "text/plain": [
       "<AxesSubplot:>"
      ]
     },
     "execution_count": 17,
     "metadata": {},
     "output_type": "execute_result"
    },
    {
     "data": {
      "image/png": "[encoded data removed]",
      "text/plain": [
       "<Figure size 1080x432 with 2 Axes>"
      ]
     },
     "metadata": {
      "needs_background": "light"
     },
     "output_type": "display_data"
    }
   ],
   "source": [
    "plt.subplot(121)\n",
    "sbn.distplot(train['CoapplicantIncome']);\n",
    "plt.subplot(122)\n",
    "train['CoapplicantIncome'].plot.box(figsize=(15,6))"
   ]
  },
  {
   "cell_type": "markdown",
   "id": "97e87853",
   "metadata": {},
   "source": [
    "* _Majority of coapplicant’s income ranges from 0 to 5000_\n",
    "* _Normal Distribution NOT present_\n",
    "* _Outliers are Present_"
   ]
  },
  {
   "cell_type": "code",
   "execution_count": 18,
   "id": "db297620",
   "metadata": {},
   "outputs": [
    {
     "data": {
      "text/plain": [
       "<AxesSubplot:>"
      ]
     },
     "execution_count": 18,
     "metadata": {},
     "output_type": "execute_result"
    },
    {
     "data": {
      "image/png": "[encoded data removed]",
      "text/plain": [
       "<Figure size 1080x432 with 2 Axes>"
      ]
     },
     "metadata": {
      "needs_background": "light"
     },
     "output_type": "display_data"
    }
   ],
   "source": [
    "plt.subplot(121)\n",
    "sbn.distplot(train['LoanAmount'])\n",
    "plt.subplot(122)\n",
    "train['LoanAmount'].plot.box(figsize=(15,6))"
   ]
  },
  {
   "cell_type": "markdown",
   "id": "73ab9389",
   "metadata": {},
   "source": [
    "* _Distribution is better (fairly normal) than previous variables_\n",
    "* _A lot of outliers are present_"
   ]
  },
  {
   "cell_type": "markdown",
   "id": "380fde3c",
   "metadata": {},
   "source": [
    "**Conclusions from Univariate Analysis:**\n",
    "\n",
    "1. ~69% i.e. About 2/3rd of applicants have been granted loan.\n",
    "2. 80% applicants in the dataset are male.\n",
    "3. ~65% of the applicants are married.\n",
    "4. Only ~15% applicants are self employed.\n",
    "5. ~85% applicants have credit history.\n",
    "6. ~80% of the applicants are Graduate.\n",
    "7. More than half of the applicants don’t have any dependents.\n",
    "8. Most of the applicants are from Semiurban area followed by urban areas.\n",
    "9. More than 80% of loans are taken for 360 days (1 year).\n",
    "10. The Applicant Income is not Normalised and has some outliers.\n",
    "12. Coapplicant Income is lesser than Applicant Income and is in range 0-5000 with some outliers.\n",
    "11. Loan Amount is mostly Normalised and has a lot of outliers present."
   ]
  },
  {
   "cell_type": "markdown",
   "id": "24ffaa6b",
   "metadata": {},
   "source": [
    "## Bivariate Analysis"
   ]
  },
  {
   "cell_type": "code",
   "execution_count": 19,
   "id": "fa386d38",
   "metadata": {
    "scrolled": true
   },
   "outputs": [
    {
     "data": {
      "image/png": "[encoded data removed]",
      "text/plain": [
       "<Figure size 1152x1440 with 8 Axes>"
      ]
     },
     "metadata": {
      "needs_background": "light"
     },
     "output_type": "display_data"
    }
   ],
   "source": [
    "#categorical\n",
    "fig,axes = plt.subplots(4,2,figsize=(16,20))\n",
    "for idx,cat_col in enumerate(categorical_columns):\n",
    "    row,col = idx//2,idx%2\n",
    "    sbn.countplot(x=cat_col,data=train,hue='Loan_Status',ax=axes[row,col])"
   ]
  },
  {
   "cell_type": "markdown",
   "id": "0b655052",
   "metadata": {},
   "source": [
    "* Gender: Proportion of male and female applicants is more or less same for both approved and unapproved loans \n",
    "* Martial Status: Married applicants are more likely to be granted loans.\n",
    "* Dependents: Majority of the population have zero dependents and are also likely to be accepted for loan and distribution of applicants with 1 or 3+ dependents is similar across both the categories of Loan_Status\n",
    "* Education: Proportion of loans getting approved for graduates is higher compared to non-graduates\n",
    "* Self Employed: No significant relation between Self_Employed and Loan_Status.\n",
    "* Property Area: Proportion of loans getting approved in semiurban area is higher as compared to that in rural or urban areas.\n",
    "* Credit History: Applicant with credit history (1) are far more likely to be accepted."
   ]
  },
  {
   "cell_type": "code",
   "execution_count": 20,
   "id": "8f1ce1f4",
   "metadata": {
    "scrolled": true
   },
   "outputs": [
    {
     "data": {
      "text/html": [
       "<div>\n",
       "<style scoped>\n",
       "    .dataframe tbody tr th:only-of-type {\n",
       "        vertical-align: middle;\n",
       "    }\n",
       "\n",
       "    .dataframe tbody tr th {\n",
       "        vertical-align: top;\n",
       "    }\n",
       "\n",
       "    .dataframe thead th {\n",
       "        text-align: right;\n",
       "    }\n",
       "</style>\n",
       "<table border=\"1\" class=\"dataframe\">\n",
       "  <thead>\n",
       "    <tr style=\"text-align: right;\">\n",
       "      <th></th>\n",
       "      <th>ApplicantIncome</th>\n",
       "      <th>CoapplicantIncome</th>\n",
       "      <th>LoanAmount</th>\n",
       "      <th>Loan_Amount_Term</th>\n",
       "    </tr>\n",
       "  </thead>\n",
       "  <tbody>\n",
       "    <tr>\n",
       "      <th>count</th>\n",
       "      <td>614.000000</td>\n",
       "      <td>614.000000</td>\n",
       "      <td>592.000000</td>\n",
       "      <td>600.00000</td>\n",
       "    </tr>\n",
       "    <tr>\n",
       "      <th>mean</th>\n",
       "      <td>5403.459283</td>\n",
       "      <td>1621.245798</td>\n",
       "      <td>146.412162</td>\n",
       "      <td>342.00000</td>\n",
       "    </tr>\n",
       "    <tr>\n",
       "      <th>std</th>\n",
       "      <td>6109.041673</td>\n",
       "      <td>2926.248369</td>\n",
       "      <td>85.587325</td>\n",
       "      <td>65.12041</td>\n",
       "    </tr>\n",
       "    <tr>\n",
       "      <th>min</th>\n",
       "      <td>150.000000</td>\n",
       "      <td>0.000000</td>\n",
       "      <td>9.000000</td>\n",
       "      <td>12.00000</td>\n",
       "    </tr>\n",
       "    <tr>\n",
       "      <th>25%</th>\n",
       "      <td>2877.500000</td>\n",
       "      <td>0.000000</td>\n",
       "      <td>100.000000</td>\n",
       "      <td>360.00000</td>\n",
       "    </tr>\n",
       "    <tr>\n",
       "      <th>50%</th>\n",
       "      <td>3812.500000</td>\n",
       "      <td>1188.500000</td>\n",
       "      <td>128.000000</td>\n",
       "      <td>360.00000</td>\n",
       "    </tr>\n",
       "    <tr>\n",
       "      <th>75%</th>\n",
       "      <td>5795.000000</td>\n",
       "      <td>2297.250000</td>\n",
       "      <td>168.000000</td>\n",
       "      <td>360.00000</td>\n",
       "    </tr>\n",
       "    <tr>\n",
       "      <th>max</th>\n",
       "      <td>81000.000000</td>\n",
       "      <td>41667.000000</td>\n",
       "      <td>700.000000</td>\n",
       "      <td>480.00000</td>\n",
       "    </tr>\n",
       "  </tbody>\n",
       "</table>\n",
       "</div>"
      ],
      "text/plain": [
       "       ApplicantIncome  CoapplicantIncome  LoanAmount  Loan_Amount_Term\n",
       "count       614.000000         614.000000  592.000000         600.00000\n",
       "mean       5403.459283        1621.245798  146.412162         342.00000\n",
       "std        6109.041673        2926.248369   85.587325          65.12041\n",
       "min         150.000000           0.000000    9.000000          12.00000\n",
       "25%        2877.500000           0.000000  100.000000         360.00000\n",
       "50%        3812.500000        1188.500000  128.000000         360.00000\n",
       "75%        5795.000000        2297.250000  168.000000         360.00000\n",
       "max       81000.000000       41667.000000  700.000000         480.00000"
      ]
     },
     "execution_count": 20,
     "metadata": {},
     "output_type": "execute_result"
    }
   ],
   "source": [
    "#numerical\n",
    "train[numerical_columns].describe()"
   ]
  },
  {
   "cell_type": "code",
   "execution_count": 21,
   "id": "db825186",
   "metadata": {},
   "outputs": [
    {
     "data": {
      "image/png": "[encoded data removed]",
      "text/plain": [
       "<Figure size 1152x288 with 3 Axes>"
      ]
     },
     "metadata": {
      "needs_background": "light"
     },
     "output_type": "display_data"
    }
   ],
   "source": [
    "numerical_columns = ['ApplicantIncome', 'CoapplicantIncome', 'LoanAmount']\n",
    "fig,axes = plt.subplots(1,3,figsize=(16,4))\n",
    "for idx,cat_col in enumerate(numerical_columns):\n",
    "    sbn.boxplot(y=cat_col,data=train,x='Loan_Status',ax=axes[idx])"
   ]
  },
  {
   "cell_type": "markdown",
   "id": "22c379bd",
   "metadata": {},
   "source": [
    "_Contradictory to our hyothesis,there is no SIGNIFICANT relation to Loan approval status for Applicant Income, Co-AplicantIncome and Loan Amount. We can create another variable for analysis combining Applicant's Income with Co-Applicant's Income to compare Loan Status with total Combined Income_"
   ]
  },
  {
   "cell_type": "code",
   "execution_count": 22,
   "id": "a583f4a8",
   "metadata": {},
   "outputs": [],
   "source": [
    "train['Combined_Income'] = train['ApplicantIncome'] + train['CoapplicantIncome']"
   ]
  },
  {
   "cell_type": "code",
   "execution_count": 23,
   "id": "d4dcde63",
   "metadata": {},
   "outputs": [
    {
     "data": {
      "text/plain": [
       "<AxesSubplot:xlabel='Loan_Status', ylabel='Combined_Income'>"
      ]
     },
     "execution_count": 23,
     "metadata": {},
     "output_type": "execute_result"
    },
    {
     "data": {
      "image/png": "[encoded data removed]",
      "text/plain": [
       "<Figure size 432x288 with 1 Axes>"
      ]
     },
     "metadata": {
      "needs_background": "light"
     },
     "output_type": "display_data"
    }
   ],
   "source": [
    "sbn.boxplot(y='Combined_Income',data=train,x='Loan_Status')"
   ]
  },
  {
   "cell_type": "markdown",
   "id": "ed74975a",
   "metadata": {},
   "source": [
    "As predicted before, there is no SIGNIFICANT co-relation between Combined Income and Loan Approval Status as well hence we drop it for now."
   ]
  },
  {
   "cell_type": "code",
   "execution_count": 24,
   "id": "b48dad44",
   "metadata": {},
   "outputs": [],
   "source": [
    "train = train.drop('Combined_Income',axis=1)"
   ]
  },
  {
   "cell_type": "markdown",
   "id": "d2d19aa8",
   "metadata": {},
   "source": [
    "**Co-Relation Analysis (Co-relation Matrix)**"
   ]
  },
  {
   "cell_type": "code",
   "execution_count": 25,
   "id": "ab57f5a9",
   "metadata": {},
   "outputs": [],
   "source": [
    "# replacing 3+ in Dependents variable with 3 for co-relation anaysis\n",
    "train['Dependents'].replace('3+', 3, inplace=True)"
   ]
  },
  {
   "cell_type": "code",
   "execution_count": 26,
   "id": "432506ea",
   "metadata": {},
   "outputs": [],
   "source": [
    "# replacing Y and N with binaries (0 and 1) for co-relation anaysis\n",
    "train['Loan_Status'].replace('N', 0, inplace=True)\n",
    "train['Loan_Status'].replace('Y', 1, inplace=True)"
   ]
  },
  {
   "cell_type": "code",
   "execution_count": 27,
   "id": "4f540eb2",
   "metadata": {},
   "outputs": [
    {
     "data": {
      "text/html": [
       "<div>\n",
       "<style scoped>\n",
       "    .dataframe tbody tr th:only-of-type {\n",
       "        vertical-align: middle;\n",
       "    }\n",
       "\n",
       "    .dataframe tbody tr th {\n",
       "        vertical-align: top;\n",
       "    }\n",
       "\n",
       "    .dataframe thead th {\n",
       "        text-align: right;\n",
       "    }\n",
       "</style>\n",
       "<table border=\"1\" class=\"dataframe\">\n",
       "  <thead>\n",
       "    <tr style=\"text-align: right;\">\n",
       "      <th></th>\n",
       "      <th>ApplicantIncome</th>\n",
       "      <th>CoapplicantIncome</th>\n",
       "      <th>LoanAmount</th>\n",
       "      <th>Loan_Amount_Term</th>\n",
       "      <th>Credit_History</th>\n",
       "      <th>Loan_Status</th>\n",
       "    </tr>\n",
       "  </thead>\n",
       "  <tbody>\n",
       "    <tr>\n",
       "      <th>ApplicantIncome</th>\n",
       "      <td>1.000000</td>\n",
       "      <td>-0.116605</td>\n",
       "      <td>0.570909</td>\n",
       "      <td>-0.045306</td>\n",
       "      <td>-0.014715</td>\n",
       "      <td>-0.004710</td>\n",
       "    </tr>\n",
       "    <tr>\n",
       "      <th>CoapplicantIncome</th>\n",
       "      <td>-0.116605</td>\n",
       "      <td>1.000000</td>\n",
       "      <td>0.188619</td>\n",
       "      <td>-0.059878</td>\n",
       "      <td>-0.002056</td>\n",
       "      <td>-0.059187</td>\n",
       "    </tr>\n",
       "    <tr>\n",
       "      <th>LoanAmount</th>\n",
       "      <td>0.570909</td>\n",
       "      <td>0.188619</td>\n",
       "      <td>1.000000</td>\n",
       "      <td>0.039447</td>\n",
       "      <td>-0.008433</td>\n",
       "      <td>-0.037318</td>\n",
       "    </tr>\n",
       "    <tr>\n",
       "      <th>Loan_Amount_Term</th>\n",
       "      <td>-0.045306</td>\n",
       "      <td>-0.059878</td>\n",
       "      <td>0.039447</td>\n",
       "      <td>1.000000</td>\n",
       "      <td>0.001470</td>\n",
       "      <td>-0.021268</td>\n",
       "    </tr>\n",
       "    <tr>\n",
       "      <th>Credit_History</th>\n",
       "      <td>-0.014715</td>\n",
       "      <td>-0.002056</td>\n",
       "      <td>-0.008433</td>\n",
       "      <td>0.001470</td>\n",
       "      <td>1.000000</td>\n",
       "      <td>0.561678</td>\n",
       "    </tr>\n",
       "    <tr>\n",
       "      <th>Loan_Status</th>\n",
       "      <td>-0.004710</td>\n",
       "      <td>-0.059187</td>\n",
       "      <td>-0.037318</td>\n",
       "      <td>-0.021268</td>\n",
       "      <td>0.561678</td>\n",
       "      <td>1.000000</td>\n",
       "    </tr>\n",
       "  </tbody>\n",
       "</table>\n",
       "</div>"
      ],
      "text/plain": [
       "                   ApplicantIncome  CoapplicantIncome  LoanAmount  \\\n",
       "ApplicantIncome           1.000000          -0.116605    0.570909   \n",
       "CoapplicantIncome        -0.116605           1.000000    0.188619   \n",
       "LoanAmount                0.570909           0.188619    1.000000   \n",
       "Loan_Amount_Term         -0.045306          -0.059878    0.039447   \n",
       "Credit_History           -0.014715          -0.002056   -0.008433   \n",
       "Loan_Status              -0.004710          -0.059187   -0.037318   \n",
       "\n",
       "                   Loan_Amount_Term  Credit_History  Loan_Status  \n",
       "ApplicantIncome           -0.045306       -0.014715    -0.004710  \n",
       "CoapplicantIncome         -0.059878       -0.002056    -0.059187  \n",
       "LoanAmount                 0.039447       -0.008433    -0.037318  \n",
       "Loan_Amount_Term           1.000000        0.001470    -0.021268  \n",
       "Credit_History             0.001470        1.000000     0.561678  \n",
       "Loan_Status               -0.021268        0.561678     1.000000  "
      ]
     },
     "execution_count": 27,
     "metadata": {},
     "output_type": "execute_result"
    }
   ],
   "source": [
    "# Using  corr() to compute pairwise correlation of columns excluding null values\n",
    "Corr_Matrix = train.corr()\n",
    "Corr_Matrix"
   ]
  },
  {
   "cell_type": "code",
   "execution_count": 28,
   "id": "97d9ff7f",
   "metadata": {
    "scrolled": true
   },
   "outputs": [
    {
     "data": {
      "text/plain": [
       "<AxesSubplot:>"
      ]
     },
     "execution_count": 28,
     "metadata": {},
     "output_type": "execute_result"
    },
    {
     "data": {
      "image/png": "[encoded data removed]",
      "text/plain": [
       "<Figure size 864x432 with 2 Axes>"
      ]
     },
     "metadata": {
      "needs_background": "light"
     },
     "output_type": "display_data"
    }
   ],
   "source": [
    "#Using a Heatmap for further Analysis\n",
    "plt.subplots(figsize=(12,6))\n",
    "sbn.heatmap(Corr_Matrix,annot=True,cmap=\"BuPu\")"
   ]
  },
  {
   "cell_type": "markdown",
   "id": "1f3ba05f",
   "metadata": {},
   "source": [
    "Based on Heatmap we can derive that:\n",
    "* ApplicantIncome and LoanAmount have positive correlation (+0.57)\n",
    "* Credit_History and Loan_Status have positive correlation (+0.56)\n",
    "* LoanAmount and Coapplicant Income have positive correlation (+0.19)"
   ]
  },
  {
   "cell_type": "markdown",
   "id": "459e6930",
   "metadata": {},
   "source": [
    "### EDA Conclusions and Results Summary"
   ]
  },
  {
   "cell_type": "markdown",
   "id": "0c953900",
   "metadata": {},
   "source": [
    "**Univariate and Bivariate Analysis**\n",
    "\n",
    "1. Loan Status: **Majority** (about 2/3rd) of applicants were granted loan\n",
    "2. Gender: **Majority** of applicants in the dataset were male. The Loan Approval rate was **almost equal** for both Males and Females\n",
    "3. Marital Status: **Majority** of the applicants were married. Married applicants were **more likely** to be granted loans\n",
    "4. Self Employment Status: **Minority** of people were self Employed. No significant relation between Self_Employed and Loan_Status was analysed\n",
    "5. Credit History: **Majority** of applicants had credit history and applicants with credit history were **far more likely** to have their loan Approved\n",
    "6. Education: **Majority** of the applicants were Graduate (Educated) and Proportion of loans getting approved for graduates was **higher** compared to non-graduates\n",
    "7. Dependents: **Majority** (more than half) of the applicants had 0 dependents and were also **likely to be accepted** for loan. Distribution of applicants with 1 or 3+ dependents was similar across both the categories of Loan_Status.\n",
    "8. Property Area: **Majority** of the applicants were from Semiurban area followed by urban areas. Proportion of loans getting approved in semiurban area was **higher** as compared to that in rural or urban areas.\n",
    "\n",
    "9. Loan Term: **Majority** of loans are taken for 360 months (30 years). It had no impact on Loan Approval\n",
    "10. Applicant Income: The Applicant Income is not Normalised and has some outliers. No significant impact on loan approval distribution was observed\n",
    "12. Coapplicant Income: Coapplicant Income is lesser than Applicant Income and is in range 0-5000 with some outliers. No significant impact on loan approval distribution was observed\n",
    "11. Loan Amount: Loan Amount is mostly Normalised but a lot of outliers present.No significant impact on loan approval distribution was observed\n",
    "13. Combined Income (applicant Income and Co-Applicant Income): No significant co-relation between Combined Income and Loan Status was observed.\n",
    "\n",
    "**Co-Relation Analysis**\n",
    "\n",
    "3 factors were observed to have a positive co-relation:\n",
    "1. ApplicantIncome and LoanAmount\n",
    "2. Credit_History and Loan_Status\n",
    "3. LoanAmount and Coapplicant Income"
   ]
  },
  {
   "cell_type": "markdown",
   "id": "9cf8bccd",
   "metadata": {},
   "source": [
    "_---------------------------------------------------Review 2 Presentation end------------------------------------------------_"
   ]
  },
  {
   "cell_type": "markdown",
   "id": "e1f64c53",
   "metadata": {},
   "source": [
    "# Data Pre-Processing"
   ]
  },
  {
   "cell_type": "markdown",
   "id": "6bdb63e5",
   "metadata": {},
   "source": [
    "Calculating the no. of null values present in each column:"
   ]
  },
  {
   "cell_type": "code",
   "execution_count": 74,
   "id": "14c05c54",
   "metadata": {
    "scrolled": false
   },
   "outputs": [
    {
     "data": {
      "text/plain": [
       "Loan_ID               0\n",
       "Gender               13\n",
       "Married               3\n",
       "Dependents           15\n",
       "Education             0\n",
       "Self_Employed        32\n",
       "ApplicantIncome       0\n",
       "CoapplicantIncome     0\n",
       "LoanAmount           22\n",
       "Purpose               0\n",
       "Loan_Amount_Term     14\n",
       "Credit_History       50\n",
       "Property_Area         0\n",
       "Loan_Status           0\n",
       "dtype: int64"
      ]
     },
     "execution_count": 74,
     "metadata": {},
     "output_type": "execute_result"
    }
   ],
   "source": [
    "train.isnull().sum()"
   ]
  },
  {
   "cell_type": "code",
   "execution_count": 81,
   "id": "ea59e7e0",
   "metadata": {},
   "outputs": [
    {
     "data": {
      "text/plain": [
       "<AxesSubplot:ylabel='S.No.'>"
      ]
     },
     "execution_count": 81,
     "metadata": {},
     "output_type": "execute_result"
    },
    {
     "data": {
      "image/png": "[encoded data removed]",
      "text/plain": [
       "<Figure size 720x504 with 2 Axes>"
      ]
     },
     "metadata": {
      "needs_background": "light"
     },
     "output_type": "display_data"
    }
   ],
   "source": [
    "plt.figure(figsize=(10,7))\n",
    "sbn.heatmap(train.isnull(),yticklabels=False)"
   ]
  },
  {
   "cell_type": "markdown",
   "id": "b0f953b9",
   "metadata": {},
   "source": [
    "**According to EDA analysis, we found out that our dataset is not normalised, hence we Prepare data for model training i.e. removing ouliers , filling null values , removing skewness**"
   ]
  },
  {
   "cell_type": "markdown",
   "id": "4e85ae62",
   "metadata": {},
   "source": [
    "## Training DataSet"
   ]
  },
  {
   "cell_type": "code",
   "execution_count": 30,
   "id": "af53c5c6",
   "metadata": {
    "scrolled": false
   },
   "outputs": [
    {
     "data": {
      "text/html": [
       "<div>\n",
       "<style scoped>\n",
       "    .dataframe tbody tr th:only-of-type {\n",
       "        vertical-align: middle;\n",
       "    }\n",
       "\n",
       "    .dataframe tbody tr th {\n",
       "        vertical-align: top;\n",
       "    }\n",
       "\n",
       "    .dataframe thead th {\n",
       "        text-align: right;\n",
       "    }\n",
       "</style>\n",
       "<table border=\"1\" class=\"dataframe\">\n",
       "  <thead>\n",
       "    <tr style=\"text-align: right;\">\n",
       "      <th></th>\n",
       "      <th>ApplicantIncome</th>\n",
       "      <th>CoapplicantIncome</th>\n",
       "      <th>LoanAmount</th>\n",
       "      <th>Loan_Amount_Term</th>\n",
       "      <th>Credit_History</th>\n",
       "      <th>Loan_Status</th>\n",
       "    </tr>\n",
       "  </thead>\n",
       "  <tbody>\n",
       "    <tr>\n",
       "      <th>count</th>\n",
       "      <td>614.000000</td>\n",
       "      <td>614.000000</td>\n",
       "      <td>592.000000</td>\n",
       "      <td>600.00000</td>\n",
       "      <td>564.000000</td>\n",
       "      <td>614.000000</td>\n",
       "    </tr>\n",
       "    <tr>\n",
       "      <th>mean</th>\n",
       "      <td>5403.459283</td>\n",
       "      <td>1621.245798</td>\n",
       "      <td>146.412162</td>\n",
       "      <td>342.00000</td>\n",
       "      <td>0.842199</td>\n",
       "      <td>0.687296</td>\n",
       "    </tr>\n",
       "    <tr>\n",
       "      <th>std</th>\n",
       "      <td>6109.041673</td>\n",
       "      <td>2926.248369</td>\n",
       "      <td>85.587325</td>\n",
       "      <td>65.12041</td>\n",
       "      <td>0.364878</td>\n",
       "      <td>0.463973</td>\n",
       "    </tr>\n",
       "    <tr>\n",
       "      <th>min</th>\n",
       "      <td>150.000000</td>\n",
       "      <td>0.000000</td>\n",
       "      <td>9.000000</td>\n",
       "      <td>12.00000</td>\n",
       "      <td>0.000000</td>\n",
       "      <td>0.000000</td>\n",
       "    </tr>\n",
       "    <tr>\n",
       "      <th>25%</th>\n",
       "      <td>2877.500000</td>\n",
       "      <td>0.000000</td>\n",
       "      <td>100.000000</td>\n",
       "      <td>360.00000</td>\n",
       "      <td>1.000000</td>\n",
       "      <td>0.000000</td>\n",
       "    </tr>\n",
       "    <tr>\n",
       "      <th>50%</th>\n",
       "      <td>3812.500000</td>\n",
       "      <td>1188.500000</td>\n",
       "      <td>128.000000</td>\n",
       "      <td>360.00000</td>\n",
       "      <td>1.000000</td>\n",
       "      <td>1.000000</td>\n",
       "    </tr>\n",
       "    <tr>\n",
       "      <th>75%</th>\n",
       "      <td>5795.000000</td>\n",
       "      <td>2297.250000</td>\n",
       "      <td>168.000000</td>\n",
       "      <td>360.00000</td>\n",
       "      <td>1.000000</td>\n",
       "      <td>1.000000</td>\n",
       "    </tr>\n",
       "    <tr>\n",
       "      <th>max</th>\n",
       "      <td>81000.000000</td>\n",
       "      <td>41667.000000</td>\n",
       "      <td>700.000000</td>\n",
       "      <td>480.00000</td>\n",
       "      <td>1.000000</td>\n",
       "      <td>1.000000</td>\n",
       "    </tr>\n",
       "  </tbody>\n",
       "</table>\n",
       "</div>"
      ],
      "text/plain": [
       "       ApplicantIncome  CoapplicantIncome  LoanAmount  Loan_Amount_Term  \\\n",
       "count       614.000000         614.000000  592.000000         600.00000   \n",
       "mean       5403.459283        1621.245798  146.412162         342.00000   \n",
       "std        6109.041673        2926.248369   85.587325          65.12041   \n",
       "min         150.000000           0.000000    9.000000          12.00000   \n",
       "25%        2877.500000           0.000000  100.000000         360.00000   \n",
       "50%        3812.500000        1188.500000  128.000000         360.00000   \n",
       "75%        5795.000000        2297.250000  168.000000         360.00000   \n",
       "max       81000.000000       41667.000000  700.000000         480.00000   \n",
       "\n",
       "       Credit_History  Loan_Status  \n",
       "count      564.000000   614.000000  \n",
       "mean         0.842199     0.687296  \n",
       "std          0.364878     0.463973  \n",
       "min          0.000000     0.000000  \n",
       "25%          1.000000     0.000000  \n",
       "50%          1.000000     1.000000  \n",
       "75%          1.000000     1.000000  \n",
       "max          1.000000     1.000000  "
      ]
     },
     "execution_count": 30,
     "metadata": {},
     "output_type": "execute_result"
    }
   ],
   "source": [
    "train.describe()"
   ]
  },
  {
   "cell_type": "markdown",
   "id": "ddf5d0f0",
   "metadata": {},
   "source": [
    "We can consider these methods to fill the missing values:\n",
    "\n",
    "* For numerical variables: imputation using mean or median\n",
    "* For categorical variables: imputation using mode\n",
    "\n",
    "_There are very less missing values in Non-Categorical (Numerical) features so we can fill them using the **mode** of the features. If an independent variable in our dataset has huge amount of missing data e.g. 80% missing values in it, then we would drop the variable from the dataset._"
   ]
  },
  {
   "cell_type": "markdown",
   "id": "6b48e3e7",
   "metadata": {},
   "source": [
    "### Gender"
   ]
  },
  {
   "cell_type": "code",
   "execution_count": 82,
   "id": "c3f07afe",
   "metadata": {},
   "outputs": [
    {
     "data": {
      "text/plain": [
       "array(['Male', 'Female', nan], dtype=object)"
      ]
     },
     "execution_count": 82,
     "metadata": {},
     "output_type": "execute_result"
    }
   ],
   "source": [
    "train['Gender'].unique()"
   ]
  },
  {
   "cell_type": "code",
   "execution_count": 83,
   "id": "22acd63d",
   "metadata": {},
   "outputs": [
    {
     "name": "stdout",
     "output_type": "stream",
     "text": [
      "Before:\n"
     ]
    },
    {
     "data": {
      "text/plain": [
       "Male      489\n",
       "Female    112\n",
       "Name: Gender, dtype: int64"
      ]
     },
     "execution_count": 83,
     "metadata": {},
     "output_type": "execute_result"
    }
   ],
   "source": [
    "print(\"Before:\")\n",
    "train['Gender'].value_counts()"
   ]
  },
  {
   "cell_type": "code",
   "execution_count": 84,
   "id": "28711839",
   "metadata": {},
   "outputs": [
    {
     "name": "stdout",
     "output_type": "stream",
     "text": [
      "After:\n"
     ]
    },
    {
     "data": {
      "text/plain": [
       "Male      502\n",
       "Female    112\n",
       "Name: Gender, dtype: int64"
      ]
     },
     "execution_count": 84,
     "metadata": {},
     "output_type": "execute_result"
    }
   ],
   "source": [
    "train[\"Gender\"].fillna(train[\"Gender\"].mode()[0],inplace=True)\n",
    "print(\"After:\")\n",
    "train['Gender'].value_counts()"
   ]
  },
  {
   "cell_type": "markdown",
   "id": "50c30cce",
   "metadata": {},
   "source": [
    "### Married"
   ]
  },
  {
   "cell_type": "code",
   "execution_count": 85,
   "id": "65a5206e",
   "metadata": {
    "scrolled": true
   },
   "outputs": [
    {
     "data": {
      "text/plain": [
       "array(['No', 'Yes', nan], dtype=object)"
      ]
     },
     "execution_count": 85,
     "metadata": {},
     "output_type": "execute_result"
    }
   ],
   "source": [
    "train['Married'].unique()"
   ]
  },
  {
   "cell_type": "code",
   "execution_count": 86,
   "id": "1e961f1c",
   "metadata": {},
   "outputs": [
    {
     "name": "stdout",
     "output_type": "stream",
     "text": [
      "Before:\n"
     ]
    },
    {
     "data": {
      "text/plain": [
       "Yes    398\n",
       "No     213\n",
       "Name: Married, dtype: int64"
      ]
     },
     "execution_count": 86,
     "metadata": {},
     "output_type": "execute_result"
    }
   ],
   "source": [
    "print(\"Before:\")\n",
    "train['Married'].value_counts()"
   ]
  },
  {
   "cell_type": "code",
   "execution_count": 87,
   "id": "03a4ac90",
   "metadata": {},
   "outputs": [
    {
     "name": "stdout",
     "output_type": "stream",
     "text": [
      "After:\n"
     ]
    },
    {
     "data": {
      "text/plain": [
       "Yes    401\n",
       "No     213\n",
       "Name: Married, dtype: int64"
      ]
     },
     "execution_count": 87,
     "metadata": {},
     "output_type": "execute_result"
    }
   ],
   "source": [
    "train[\"Married\"].fillna(train[\"Married\"].mode()[0],inplace=True)\n",
    "print(\"After:\")\n",
    "train['Married'].value_counts()"
   ]
  },
  {
   "cell_type": "markdown",
   "id": "f90e183a",
   "metadata": {},
   "source": [
    "### Dependents"
   ]
  },
  {
   "cell_type": "code",
   "execution_count": 88,
   "id": "db8de623",
   "metadata": {
    "scrolled": true
   },
   "outputs": [
    {
     "data": {
      "text/plain": [
       "array(['0', '1', '2', '3+', nan], dtype=object)"
      ]
     },
     "execution_count": 88,
     "metadata": {},
     "output_type": "execute_result"
    }
   ],
   "source": [
    "train['Dependents'].unique()"
   ]
  },
  {
   "cell_type": "code",
   "execution_count": 89,
   "id": "4dab3e2b",
   "metadata": {},
   "outputs": [
    {
     "data": {
      "text/plain": [
       "0     345\n",
       "1     102\n",
       "2     101\n",
       "3+     51\n",
       "Name: Dependents, dtype: int64"
      ]
     },
     "execution_count": 89,
     "metadata": {},
     "output_type": "execute_result"
    }
   ],
   "source": [
    "train['Dependents'].value_counts()"
   ]
  },
  {
   "cell_type": "code",
   "execution_count": 90,
   "id": "4a224bf4",
   "metadata": {
    "scrolled": true
   },
   "outputs": [
    {
     "data": {
      "text/plain": [
       "0     360\n",
       "1     102\n",
       "2     101\n",
       "3+     51\n",
       "Name: Dependents, dtype: int64"
      ]
     },
     "execution_count": 90,
     "metadata": {},
     "output_type": "execute_result"
    }
   ],
   "source": [
    "train['Dependents'].fillna(train['Dependents'].mode()[0], inplace=True)\n",
    "train['Dependents'].value_counts()"
   ]
  },
  {
   "cell_type": "markdown",
   "id": "fa4c9486",
   "metadata": {},
   "source": [
    "### Self Employed "
   ]
  },
  {
   "cell_type": "code",
   "execution_count": 91,
   "id": "2cca358a",
   "metadata": {
    "scrolled": true
   },
   "outputs": [
    {
     "data": {
      "text/plain": [
       "array(['No', 'Yes', nan], dtype=object)"
      ]
     },
     "execution_count": 91,
     "metadata": {},
     "output_type": "execute_result"
    }
   ],
   "source": [
    "train['Self_Employed'].unique()"
   ]
  },
  {
   "cell_type": "code",
   "execution_count": 92,
   "id": "a55e768f",
   "metadata": {},
   "outputs": [
    {
     "data": {
      "text/plain": [
       "No     500\n",
       "Yes     82\n",
       "Name: Self_Employed, dtype: int64"
      ]
     },
     "execution_count": 92,
     "metadata": {},
     "output_type": "execute_result"
    }
   ],
   "source": [
    "train['Self_Employed'].value_counts()"
   ]
  },
  {
   "cell_type": "code",
   "execution_count": 93,
   "id": "8f05c7f8",
   "metadata": {},
   "outputs": [
    {
     "data": {
      "text/plain": [
       "No     532\n",
       "Yes     82\n",
       "Name: Self_Employed, dtype: int64"
      ]
     },
     "execution_count": 93,
     "metadata": {},
     "output_type": "execute_result"
    }
   ],
   "source": [
    "train['Self_Employed'].fillna(train['Self_Employed'].mode()[0], inplace=True)\n",
    "train['Self_Employed'].value_counts()"
   ]
  },
  {
   "cell_type": "markdown",
   "id": "56a05891",
   "metadata": {},
   "source": [
    "### Credit History"
   ]
  },
  {
   "cell_type": "code",
   "execution_count": 94,
   "id": "07a9c6a3",
   "metadata": {},
   "outputs": [
    {
     "data": {
      "text/plain": [
       "array([ 1.,  0., nan])"
      ]
     },
     "execution_count": 94,
     "metadata": {},
     "output_type": "execute_result"
    }
   ],
   "source": [
    "train['Credit_History'].unique()"
   ]
  },
  {
   "cell_type": "code",
   "execution_count": 95,
   "id": "5ad6dcb8",
   "metadata": {},
   "outputs": [
    {
     "data": {
      "text/plain": [
       "1.0    475\n",
       "0.0     89\n",
       "Name: Credit_History, dtype: int64"
      ]
     },
     "execution_count": 95,
     "metadata": {},
     "output_type": "execute_result"
    }
   ],
   "source": [
    "train['Credit_History'].value_counts()"
   ]
  },
  {
   "cell_type": "code",
   "execution_count": 96,
   "id": "c65ed92a",
   "metadata": {},
   "outputs": [
    {
     "data": {
      "text/plain": [
       "1.0    525\n",
       "0.0     89\n",
       "Name: Credit_History, dtype: int64"
      ]
     },
     "execution_count": 96,
     "metadata": {},
     "output_type": "execute_result"
    }
   ],
   "source": [
    "train['Credit_History'].fillna(train['Credit_History'].mode()[0], inplace=True)\n",
    "train['Credit_History'].value_counts()"
   ]
  },
  {
   "cell_type": "markdown",
   "id": "0e91e079",
   "metadata": {},
   "source": [
    "### Loan Amount Term "
   ]
  },
  {
   "cell_type": "code",
   "execution_count": 97,
   "id": "bf52f824",
   "metadata": {},
   "outputs": [
    {
     "data": {
      "text/plain": [
       "360.0    512\n",
       "180.0     44\n",
       "480.0     15\n",
       "300.0     13\n",
       "84.0       4\n",
       "240.0      4\n",
       "120.0      3\n",
       "36.0       2\n",
       "60.0       2\n",
       "12.0       1\n",
       "Name: Loan_Amount_Term, dtype: int64"
      ]
     },
     "execution_count": 97,
     "metadata": {},
     "output_type": "execute_result"
    }
   ],
   "source": [
    "train['Loan_Amount_Term'].value_counts()"
   ]
  },
  {
   "cell_type": "code",
   "execution_count": 98,
   "id": "8653c82e",
   "metadata": {},
   "outputs": [
    {
     "data": {
      "text/plain": [
       "count    600.00000\n",
       "mean     342.00000\n",
       "std       65.12041\n",
       "min       12.00000\n",
       "25%      360.00000\n",
       "50%      360.00000\n",
       "75%      360.00000\n",
       "max      480.00000\n",
       "Name: Loan_Amount_Term, dtype: float64"
      ]
     },
     "execution_count": 98,
     "metadata": {},
     "output_type": "execute_result"
    }
   ],
   "source": [
    "train['Loan_Amount_Term'].describe()"
   ]
  },
  {
   "cell_type": "markdown",
   "id": "2a57bec8",
   "metadata": {},
   "source": [
    "*Observing the above, value 360.000 is the most repeated term which is also the mode and median value.*\n",
    "\n",
    "Hence, we fill NaN values with **either mode or median value** (as they are both same values)"
   ]
  },
  {
   "cell_type": "code",
   "execution_count": 99,
   "id": "8e428d26",
   "metadata": {
    "scrolled": true
   },
   "outputs": [
    {
     "data": {
      "text/plain": [
       "360.0    526\n",
       "180.0     44\n",
       "480.0     15\n",
       "300.0     13\n",
       "84.0       4\n",
       "240.0      4\n",
       "120.0      3\n",
       "36.0       2\n",
       "60.0       2\n",
       "12.0       1\n",
       "Name: Loan_Amount_Term, dtype: int64"
      ]
     },
     "execution_count": 99,
     "metadata": {},
     "output_type": "execute_result"
    }
   ],
   "source": [
    "train['Loan_Amount_Term'].fillna(train['Loan_Amount_Term'].mode()[0], inplace=True)\n",
    "train['Loan_Amount_Term'].value_counts()"
   ]
  },
  {
   "cell_type": "markdown",
   "id": "aeaa4fc2",
   "metadata": {},
   "source": [
    "### Loan Amount"
   ]
  },
  {
   "cell_type": "code",
   "execution_count": 100,
   "id": "758304af",
   "metadata": {},
   "outputs": [
    {
     "data": {
      "text/plain": [
       "120.0    20\n",
       "110.0    17\n",
       "100.0    15\n",
       "160.0    12\n",
       "187.0    12\n",
       "         ..\n",
       "211.0     1\n",
       "250.0     1\n",
       "62.0      1\n",
       "85.0      1\n",
       "436.0     1\n",
       "Name: LoanAmount, Length: 203, dtype: int64"
      ]
     },
     "execution_count": 100,
     "metadata": {},
     "output_type": "execute_result"
    }
   ],
   "source": [
    "train['LoanAmount'].value_counts()"
   ]
  },
  {
   "cell_type": "code",
   "execution_count": 101,
   "id": "414a760a",
   "metadata": {},
   "outputs": [
    {
     "data": {
      "text/plain": [
       "count    592.000000\n",
       "mean     146.412162\n",
       "std       85.587325\n",
       "min        9.000000\n",
       "25%      100.000000\n",
       "50%      128.000000\n",
       "75%      168.000000\n",
       "max      700.000000\n",
       "Name: LoanAmount, dtype: float64"
      ]
     },
     "execution_count": 101,
     "metadata": {},
     "output_type": "execute_result"
    }
   ],
   "source": [
    "train['LoanAmount'].describe()"
   ]
  },
  {
   "cell_type": "markdown",
   "id": "3fd16c3b",
   "metadata": {},
   "source": [
    "_As we confirmed in EDA, Loan Amount has a lot of outliers present in it. Hence, We will use **median** to fill the null values because mean is highly affected by the presence of outliers._"
   ]
  },
  {
   "cell_type": "code",
   "execution_count": 102,
   "id": "93ea35e1",
   "metadata": {},
   "outputs": [
    {
     "data": {
      "text/plain": [
       "128.0    33\n",
       "120.0    20\n",
       "110.0    17\n",
       "100.0    15\n",
       "160.0    12\n",
       "         ..\n",
       "211.0     1\n",
       "250.0     1\n",
       "62.0      1\n",
       "85.0      1\n",
       "436.0     1\n",
       "Name: LoanAmount, Length: 203, dtype: int64"
      ]
     },
     "execution_count": 102,
     "metadata": {},
     "output_type": "execute_result"
    }
   ],
   "source": [
    "train['LoanAmount'].fillna(train['LoanAmount'].median(), inplace=True)\n",
    "train['LoanAmount'].value_counts()"
   ]
  },
  {
   "cell_type": "code",
   "execution_count": 103,
   "id": "24d048f6",
   "metadata": {
    "scrolled": true
   },
   "outputs": [
    {
     "data": {
      "text/plain": [
       "Loan_ID              0\n",
       "Gender               0\n",
       "Married              0\n",
       "Dependents           0\n",
       "Education            0\n",
       "Self_Employed        0\n",
       "ApplicantIncome      0\n",
       "CoapplicantIncome    0\n",
       "LoanAmount           0\n",
       "Purpose              0\n",
       "Loan_Amount_Term     0\n",
       "Credit_History       0\n",
       "Property_Area        0\n",
       "Loan_Status          0\n",
       "dtype: int64"
      ]
     },
     "execution_count": 103,
     "metadata": {},
     "output_type": "execute_result"
    }
   ],
   "source": [
    "train.isnull().sum()"
   ]
  },
  {
   "cell_type": "code",
   "execution_count": 104,
   "id": "3e27939c",
   "metadata": {},
   "outputs": [
    {
     "data": {
      "text/plain": [
       "<AxesSubplot:ylabel='S.No.'>"
      ]
     },
     "execution_count": 104,
     "metadata": {},
     "output_type": "execute_result"
    },
    {
     "data": {
      "image/png": "[encoded data removed]",
      "text/plain": [
       "<Figure size 720x504 with 2 Axes>"
      ]
     },
     "metadata": {
      "needs_background": "light"
     },
     "output_type": "display_data"
    }
   ],
   "source": [
    "plt.figure(figsize=(10,7))\n",
    "sbn.heatmap(train.isnull(),yticklabels=False)"
   ]
  },
  {
   "cell_type": "markdown",
   "id": "6a81a1f6",
   "metadata": {},
   "source": [
    "### Outlier Treatment"
   ]
  },
  {
   "cell_type": "markdown",
   "id": "00a7677f",
   "metadata": {},
   "source": [
    "As observed in EDA, our dataset contains outliers so we have to treat them as the presence of outliers affects the distribution of the data. Having outliers in the dataset often has a significant effect on the mean and standard deviation and hence affecting the distribution."
   ]
  },
  {
   "cell_type": "code",
   "execution_count": 34,
   "id": "44a87b8a",
   "metadata": {},
   "outputs": [
    {
     "name": "stdout",
     "output_type": "stream",
     "text": [
      "\n",
      "Mean:\n",
      "\n",
      "ApplicantIncome:  8.341213093227006\n",
      "CoapplicantIncome:  4.289733227820409\n",
      "LoanAmount:  4.857444178729352\n",
      "\n",
      "Mode:\n",
      "\n",
      "ApplicantIncome:  7.824046010856292\n",
      "CoapplicantIncome:  0.0\n",
      "LoanAmount:  4.787491742782046\n",
      "\n",
      "Median:\n",
      "\n",
      "ApplicantIncome:  8.246040412315828\n",
      "CoapplicantIncome:  7.080283635438671\n",
      "LoanAmount:  4.852030263919617\n",
      "\n",
      "Standard Deviation:\n",
      "\n",
      "ApplicantIncome:  0.6452632025094259\n",
      "CoapplicantIncome:  3.8756799760365634\n",
      "LoanAmount:  0.5051420701855587\n"
     ]
    }
   ],
   "source": [
    "#Before Outlier Treatment and Coversion to normally distributed data\n",
    "\n",
    "print(\"\\nMean:\\n\")\n",
    "print(\"ApplicantIncome: \",(train[\"ApplicantIncome\"]).mean())\n",
    "print(\"CoapplicantIncome: \",(train[\"CoapplicantIncome\"]).mean())\n",
    "print(\"LoanAmount: \",(train[\"LoanAmount\"].mean()))\n",
    "\n",
    "print(\"\\nMode:\\n\")\n",
    "print(\"ApplicantIncome: \",train[\"ApplicantIncome\"].mode()[0])\n",
    "print(\"CoapplicantIncome: \",train[\"CoapplicantIncome\"].mode()[0])\n",
    "print(\"LoanAmount: \",train[\"LoanAmount\"].mode()[0])\n",
    "\n",
    "print(\"\\nMedian:\\n\")\n",
    "print(\"ApplicantIncome: \",(train[\"ApplicantIncome\"]).median())\n",
    "print(\"CoapplicantIncome: \",(train[\"CoapplicantIncome\"]).median())\n",
    "print(\"LoanAmount: \",(train[\"LoanAmount\"].median()))\n",
    "\n",
    "print(\"\\nStandard Deviation:\\n\")\n",
    "print(\"ApplicantIncome: \",(train[\"ApplicantIncome\"]).std())\n",
    "print(\"CoapplicantIncome: \",(train[\"CoapplicantIncome\"]).std())\n",
    "print(\"LoanAmount: \",(train[\"LoanAmount\"].std()))"
   ]
  },
  {
   "cell_type": "code",
   "execution_count": 26,
   "id": "b86c9c8b",
   "metadata": {},
   "outputs": [
    {
     "data": {
      "text/plain": [
       "Text(0.5, 1.0, 'LoanAmount')"
      ]
     },
     "execution_count": 26,
     "metadata": {},
     "output_type": "execute_result"
    },
    {
     "data": {
      "image/png": "[encoded data removed]",
      "text/plain": [
       "<Figure size 1152x720 with 3 Axes>"
      ]
     },
     "metadata": {
      "needs_background": "light"
     },
     "output_type": "display_data"
    }
   ],
   "source": [
    "# Visualising the data before log transformation\n",
    "\n",
    "ax1 = plt.subplot(221)\n",
    "train['ApplicantIncome'].hist(bins=20, figsize=(16,10))\n",
    "ax1.set_title(\"ApplicantIncome\")\n",
    "\n",
    "ax2 = plt.subplot(222)\n",
    "test['CoapplicantIncome'].hist(bins=20)\n",
    "ax2.set_title(\"CoapplicantIncome\")\n",
    "\n",
    "ax3 = plt.subplot(223)\n",
    "train['LoanAmount'].hist(bins=20)\n",
    "ax3.set_title(\"LoanAmount\")"
   ]
  },
  {
   "cell_type": "code",
   "execution_count": 29,
   "id": "c8c4d8b9",
   "metadata": {},
   "outputs": [],
   "source": [
    "# visualising via interactive plotly graphs\n",
    "# fig = px.histogram(train[\"ApplicantIncome\"],x =\"ApplicantIncome\" ,y = \"ApplicantIncome\" )\n",
    "# fig.update_layout(title=\"ApplicantIncome\")\n",
    "# fig.show()\n",
    "\n",
    "# fig = px.histogram(train[\"CoapplicantIncome\"],x =\"CoapplicantIncome\" ,y = \"CoapplicantIncome\" )\n",
    "# fig.update_layout(title=\"CoapplicantIncome\")\n",
    "# fig.show()\n",
    "\n",
    "# fig = px.histogram(train[\"LoanAmount\"],x =\"LoanAmount\" ,y = \"LoanAmount\" )\n",
    "# fig.update_layout(title=\"LoanAmount\")\n",
    "# fig.show()"
   ]
  },
  {
   "cell_type": "markdown",
   "id": "838a6c39",
   "metadata": {},
   "source": [
    "As observed, our data has varibles which have a bulk of the data at the left and the right tail is longer which is called as **right skewness (or positive skewness)**. \n",
    "\n",
    "One way to remove the skewness is by doing the log transformation. As we take the log transformation, it does not affect the smaller values much, but reduces the larger values. So, we get a distribution similar to normal distribution."
   ]
  },
  {
   "cell_type": "code",
   "execution_count": 32,
   "id": "b286c60b",
   "metadata": {},
   "outputs": [],
   "source": [
    "#Getting log values for log tranformtion\n",
    "\n",
    "train[\"ApplicantIncome\"] = np.log(train[\"ApplicantIncome\"])\n",
    "\n",
    "#As \"CoapplicantIncome\" columns has some \"0\" values we will get log values except \"0\"\n",
    "\n",
    "train[\"CoapplicantIncome\"] = [np.log(i) if i!=0 else 0 for i in train[\"CoapplicantIncome\"]]\n",
    "train[\"LoanAmount\"] = np.log(train[\"LoanAmount\"])"
   ]
  },
  {
   "cell_type": "code",
   "execution_count": 35,
   "id": "6f411cf6",
   "metadata": {},
   "outputs": [
    {
     "name": "stdout",
     "output_type": "stream",
     "text": [
      "\n",
      "Mean:\n",
      "\n",
      "ApplicantIncome:  8.341213093227006\n",
      "CoapplicantIncome:  4.289733227820409\n",
      "LoanAmount:  4.857444178729352\n",
      "\n",
      "Mode:\n",
      "\n",
      "ApplicantIncome:  7.824046010856292\n",
      "CoapplicantIncome:  0.0\n",
      "LoanAmount:  4.787491742782046\n",
      "\n",
      "Median:\n",
      "\n",
      "ApplicantIncome:  8.246040412315828\n",
      "CoapplicantIncome:  7.080283635438671\n",
      "LoanAmount:  4.852030263919617\n",
      "\n",
      "Standard Deviation:\n",
      "\n",
      "ApplicantIncome:  0.6452632025094259\n",
      "CoapplicantIncome:  3.8756799760365634\n",
      "LoanAmount:  0.5051420701855587\n"
     ]
    }
   ],
   "source": [
    "#After Outlier Treatment and Coversion to normally distributed data\n",
    "\n",
    "print(\"\\nMean:\\n\")\n",
    "print(\"ApplicantIncome: \",(train[\"ApplicantIncome\"]).mean())\n",
    "print(\"CoapplicantIncome: \",(train[\"CoapplicantIncome\"]).mean())\n",
    "print(\"LoanAmount: \",(train[\"LoanAmount\"].mean()))\n",
    "\n",
    "print(\"\\nMode:\\n\")\n",
    "print(\"ApplicantIncome: \",train[\"ApplicantIncome\"].mode()[0])\n",
    "print(\"CoapplicantIncome: \",train[\"CoapplicantIncome\"].mode()[0])\n",
    "print(\"LoanAmount: \",train[\"LoanAmount\"].mode()[0])\n",
    "\n",
    "print(\"\\nMedian:\\n\")\n",
    "print(\"ApplicantIncome: \",(train[\"ApplicantIncome\"]).median())\n",
    "print(\"CoapplicantIncome: \",(train[\"CoapplicantIncome\"]).median())\n",
    "print(\"LoanAmount: \",(train[\"LoanAmount\"].median()))\n",
    "\n",
    "print(\"\\nStandard Deviation:\\n\")\n",
    "print(\"ApplicantIncome: \",(train[\"ApplicantIncome\"]).std())\n",
    "print(\"CoapplicantIncome: \",(train[\"CoapplicantIncome\"]).std())\n",
    "print(\"LoanAmount: \",(train[\"LoanAmount\"].std()))"
   ]
  },
  {
   "cell_type": "code",
   "execution_count": 36,
   "id": "5096a3ff",
   "metadata": {},
   "outputs": [
    {
     "data": {
      "text/plain": [
       "Text(0.5, 1.0, 'LoanAmount')"
      ]
     },
     "execution_count": 36,
     "metadata": {},
     "output_type": "execute_result"
    },
    {
     "data": {
      "image/png": "[encoded data removed]",
      "text/plain": [
       "<Figure size 1152x720 with 3 Axes>"
      ]
     },
     "metadata": {
      "needs_background": "light"
     },
     "output_type": "display_data"
    }
   ],
   "source": [
    "# Visualising the data after log transformation\n",
    "\n",
    "ax1 = plt.subplot(221)\n",
    "train['ApplicantIncome'].hist(bins=20, figsize=(16,10))\n",
    "ax1.set_title(\"ApplicantIncome\")\n",
    "\n",
    "ax2 = plt.subplot(222)\n",
    "test['CoapplicantIncome'].hist(bins=20)\n",
    "ax2.set_title(\"CoapplicantIncome\")\n",
    "\n",
    "ax3 = plt.subplot(223)\n",
    "train['LoanAmount'].hist(bins=20)\n",
    "ax3.set_title(\"LoanAmount\")"
   ]
  },
  {
   "cell_type": "markdown",
   "id": "8cd4fc50",
   "metadata": {},
   "source": [
    "As we can observe, Now the distribution looks much closer to normal and effect of extreme values has been significantly subsided."
   ]
  },
  {
   "cell_type": "code",
   "execution_count": 37,
   "id": "1756dbc5",
   "metadata": {},
   "outputs": [
    {
     "data": {
      "text/html": [
       "<div>\n",
       "<style scoped>\n",
       "    .dataframe tbody tr th:only-of-type {\n",
       "        vertical-align: middle;\n",
       "    }\n",
       "\n",
       "    .dataframe tbody tr th {\n",
       "        vertical-align: top;\n",
       "    }\n",
       "\n",
       "    .dataframe thead th {\n",
       "        text-align: right;\n",
       "    }\n",
       "</style>\n",
       "<table border=\"1\" class=\"dataframe\">\n",
       "  <thead>\n",
       "    <tr style=\"text-align: right;\">\n",
       "      <th></th>\n",
       "      <th>Loan_ID</th>\n",
       "      <th>Gender</th>\n",
       "      <th>Married</th>\n",
       "      <th>Dependents</th>\n",
       "      <th>Education</th>\n",
       "      <th>Self_Employed</th>\n",
       "      <th>ApplicantIncome</th>\n",
       "      <th>CoapplicantIncome</th>\n",
       "      <th>LoanAmount</th>\n",
       "      <th>Rate_of_Interest</th>\n",
       "      <th>Purpose</th>\n",
       "      <th>Loan_Amount_Term</th>\n",
       "      <th>Credit_History</th>\n",
       "      <th>Property_Area</th>\n",
       "      <th>Loan_Status</th>\n",
       "    </tr>\n",
       "    <tr>\n",
       "      <th>S.No.</th>\n",
       "      <th></th>\n",
       "      <th></th>\n",
       "      <th></th>\n",
       "      <th></th>\n",
       "      <th></th>\n",
       "      <th></th>\n",
       "      <th></th>\n",
       "      <th></th>\n",
       "      <th></th>\n",
       "      <th></th>\n",
       "      <th></th>\n",
       "      <th></th>\n",
       "      <th></th>\n",
       "      <th></th>\n",
       "      <th></th>\n",
       "    </tr>\n",
       "  </thead>\n",
       "  <tbody>\n",
       "    <tr>\n",
       "      <th>0</th>\n",
       "      <td>LP001002</td>\n",
       "      <td>Male</td>\n",
       "      <td>No</td>\n",
       "      <td>0</td>\n",
       "      <td>Graduate</td>\n",
       "      <td>No</td>\n",
       "      <td>8.674026</td>\n",
       "      <td>0.000000</td>\n",
       "      <td>NaN</td>\n",
       "      <td>0.1189</td>\n",
       "      <td>debt_consolidation</td>\n",
       "      <td>360.0</td>\n",
       "      <td>1.0</td>\n",
       "      <td>Urban</td>\n",
       "      <td>Y</td>\n",
       "    </tr>\n",
       "    <tr>\n",
       "      <th>1</th>\n",
       "      <td>LP001003</td>\n",
       "      <td>Male</td>\n",
       "      <td>Yes</td>\n",
       "      <td>1</td>\n",
       "      <td>Graduate</td>\n",
       "      <td>No</td>\n",
       "      <td>8.430109</td>\n",
       "      <td>7.318540</td>\n",
       "      <td>4.852030</td>\n",
       "      <td>0.1071</td>\n",
       "      <td>credit_card</td>\n",
       "      <td>360.0</td>\n",
       "      <td>1.0</td>\n",
       "      <td>Rural</td>\n",
       "      <td>N</td>\n",
       "    </tr>\n",
       "    <tr>\n",
       "      <th>2</th>\n",
       "      <td>LP001005</td>\n",
       "      <td>Male</td>\n",
       "      <td>Yes</td>\n",
       "      <td>0</td>\n",
       "      <td>Graduate</td>\n",
       "      <td>Yes</td>\n",
       "      <td>8.006368</td>\n",
       "      <td>0.000000</td>\n",
       "      <td>4.189655</td>\n",
       "      <td>0.1357</td>\n",
       "      <td>debt_consolidation</td>\n",
       "      <td>360.0</td>\n",
       "      <td>1.0</td>\n",
       "      <td>Urban</td>\n",
       "      <td>Y</td>\n",
       "    </tr>\n",
       "    <tr>\n",
       "      <th>3</th>\n",
       "      <td>LP001006</td>\n",
       "      <td>Male</td>\n",
       "      <td>Yes</td>\n",
       "      <td>0</td>\n",
       "      <td>Not Graduate</td>\n",
       "      <td>No</td>\n",
       "      <td>7.856707</td>\n",
       "      <td>7.765569</td>\n",
       "      <td>4.787492</td>\n",
       "      <td>0.1008</td>\n",
       "      <td>debt_consolidation</td>\n",
       "      <td>360.0</td>\n",
       "      <td>1.0</td>\n",
       "      <td>Urban</td>\n",
       "      <td>Y</td>\n",
       "    </tr>\n",
       "    <tr>\n",
       "      <th>4</th>\n",
       "      <td>LP001008</td>\n",
       "      <td>Male</td>\n",
       "      <td>No</td>\n",
       "      <td>0</td>\n",
       "      <td>Graduate</td>\n",
       "      <td>No</td>\n",
       "      <td>8.699515</td>\n",
       "      <td>0.000000</td>\n",
       "      <td>4.948760</td>\n",
       "      <td>0.1426</td>\n",
       "      <td>credit_card</td>\n",
       "      <td>360.0</td>\n",
       "      <td>1.0</td>\n",
       "      <td>Urban</td>\n",
       "      <td>Y</td>\n",
       "    </tr>\n",
       "  </tbody>\n",
       "</table>\n",
       "</div>"
      ],
      "text/plain": [
       "        Loan_ID Gender Married Dependents     Education Self_Employed  \\\n",
       "S.No.                                                                   \n",
       "0      LP001002   Male      No          0      Graduate            No   \n",
       "1      LP001003   Male     Yes          1      Graduate            No   \n",
       "2      LP001005   Male     Yes          0      Graduate           Yes   \n",
       "3      LP001006   Male     Yes          0  Not Graduate            No   \n",
       "4      LP001008   Male      No          0      Graduate            No   \n",
       "\n",
       "       ApplicantIncome  CoapplicantIncome  LoanAmount  Rate_of_Interest  \\\n",
       "S.No.                                                                     \n",
       "0             8.674026           0.000000         NaN            0.1189   \n",
       "1             8.430109           7.318540    4.852030            0.1071   \n",
       "2             8.006368           0.000000    4.189655            0.1357   \n",
       "3             7.856707           7.765569    4.787492            0.1008   \n",
       "4             8.699515           0.000000    4.948760            0.1426   \n",
       "\n",
       "                  Purpose  Loan_Amount_Term  Credit_History Property_Area  \\\n",
       "S.No.                                                                       \n",
       "0      debt_consolidation             360.0             1.0         Urban   \n",
       "1             credit_card             360.0             1.0         Rural   \n",
       "2      debt_consolidation             360.0             1.0         Urban   \n",
       "3      debt_consolidation             360.0             1.0         Urban   \n",
       "4             credit_card             360.0             1.0         Urban   \n",
       "\n",
       "      Loan_Status  \n",
       "S.No.              \n",
       "0               Y  \n",
       "1               N  \n",
       "2               Y  \n",
       "3               Y  \n",
       "4               Y  "
      ]
     },
     "execution_count": 37,
     "metadata": {},
     "output_type": "execute_result"
    }
   ],
   "source": [
    "train.head()"
   ]
  },
  {
   "cell_type": "markdown",
   "id": "8fbbb56e",
   "metadata": {},
   "source": [
    "_---- Minor Project Review Final -----_"
   ]
  },
  {
   "cell_type": "markdown",
   "id": "d1a65a00",
   "metadata": {},
   "source": [
    "# Model Development"
   ]
  },
  {
   "cell_type": "code",
   "execution_count": null,
   "id": "ad363b71",
   "metadata": {},
   "outputs": [],
   "source": []
  }
 ],
 "metadata": {
  "kernelspec": {
   "display_name": "Python 3",
   "language": "python",
   "name": "python3"
  },
  "language_info": {
   "codemirror_mode": {
    "name": "ipython",
    "version": 3
   },
   "file_extension": ".py",
   "mimetype": "text/x-python",
   "name": "python",
   "nbconvert_exporter": "python",
   "pygments_lexer": "ipython3",
   "version": "3.9.9"
  }
 },
 "nbformat": 4,
 "nbformat_minor": 5
}
